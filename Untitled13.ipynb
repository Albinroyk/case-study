{
  "nbformat": 4,
  "nbformat_minor": 0,
  "metadata": {
    "colab": {
      "provenance": []
    },
    "kernelspec": {
      "name": "python3",
      "display_name": "Python 3"
    },
    "language_info": {
      "name": "python"
    }
  },
  "cells": [
    {
      "cell_type": "code",
      "execution_count": 1,
      "metadata": {
        "colab": {
          "base_uri": "https://localhost:8080/"
        },
        "id": "OWhvvGf1ylkm",
        "outputId": "d203080a-9d8c-4990-9dda-a348d6cbeaa4"
      },
      "outputs": [
        {
          "output_type": "stream",
          "name": "stdout",
          "text": [
            "Linear Regression RMSE: 65779.22359552195\n",
            "Lasso Regression RMSE: 65779.18826038415\n",
            "Predicted price using Linear Regression for a 2022 model: 743601.6159450412\n",
            "Predicted price using Lasso Regression for a 2022 model: 743601.3917776793\n"
          ]
        },
        {
          "output_type": "stream",
          "name": "stderr",
          "text": [
            "/usr/local/lib/python3.10/dist-packages/sklearn/base.py:439: UserWarning: X does not have valid feature names, but LinearRegression was fitted with feature names\n",
            "  warnings.warn(\n",
            "/usr/local/lib/python3.10/dist-packages/sklearn/base.py:439: UserWarning: X does not have valid feature names, but Lasso was fitted with feature names\n",
            "  warnings.warn(\n"
          ]
        }
      ],
      "source": [
        "import pandas as pd\n",
        "import numpy as np\n",
        "from sklearn.model_selection import train_test_split\n",
        "from sklearn.linear_model import LinearRegression, Lasso\n",
        "from sklearn.metrics import mean_squared_error\n",
        "\n",
        "# Load the dataset into a DataFrame\n",
        "data = pd.read_csv('/content/car_age_price.csv')\n",
        "df = pd.DataFrame(data)\n",
        "\n",
        "# Split the data into training and testing sets\n",
        "X_train, X_test, y_train, y_test = train_test_split(df[['Year']], df['Price'], test_size=0.2, random_state=42)\n",
        "\n",
        "# Linear Regression\n",
        "lr_model = LinearRegression()\n",
        "lr_model.fit(X_train, y_train)\n",
        "lr_pred = lr_model.predict(X_test)\n",
        "\n",
        "# Lasso Regression\n",
        "lasso_model = Lasso(alpha=0.1)\n",
        "lasso_model.fit(X_train, y_train)\n",
        "lasso_pred = lasso_model.predict(X_test)\n",
        "\n",
        "# Evaluate models\n",
        "lr_rmse = np.sqrt(mean_squared_error(y_test, lr_pred))\n",
        "lasso_rmse = np.sqrt(mean_squared_error(y_test, lasso_pred))\n",
        "\n",
        "print(\"Linear Regression RMSE:\", lr_rmse)\n",
        "print(\"Lasso Regression RMSE:\", lasso_rmse)\n",
        "\n",
        "# Predict the possible price of a 2022 model second-hand Grand i10\n",
        "year_2022 = np.array([2022]).reshape(-1, 1)\n",
        "lr_price_2022 = lr_model.predict(year_2022)\n",
        "lasso_price_2022 = lasso_model.predict(year_2022)\n",
        "\n",
        "print(\"Predicted price using Linear Regression for a 2022 model:\", lr_price_2022[0])\n",
        "print(\"Predicted price using Lasso Regression for a 2022 model:\", lasso_price_2022[0])"
      ]
    }
  ]
}